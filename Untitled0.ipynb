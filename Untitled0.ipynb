{
  "nbformat": 4,
  "nbformat_minor": 0,
  "metadata": {
    "colab": {
      "provenance": [],
      "authorship_tag": "ABX9TyOfRRIHm2CeghTth9Fe/imz",
      "include_colab_link": true
    },
    "kernelspec": {
      "name": "python3",
      "display_name": "Python 3"
    },
    "language_info": {
      "name": "python"
    }
  },
  "cells": [
    {
      "cell_type": "markdown",
      "metadata": {
        "id": "view-in-github",
        "colab_type": "text"
      },
      "source": [
        "<a href=\"https://colab.research.google.com/github/praptisharma28/Blogging-Website/blob/main/Untitled0.ipynb\" target=\"_parent\"><img src=\"https://colab.research.google.com/assets/colab-badge.svg\" alt=\"Open In Colab\"/></a>"
      ]
    },
    {
      "cell_type": "code",
      "source": [
        "list=[1,2,3,4,5]\n",
        "print(list)"
      ],
      "metadata": {
        "colab": {
          "base_uri": "https://localhost:8080/"
        },
        "id": "CrnxdMTuwRXj",
        "outputId": "aabf2138-10f7-4950-e5e2-889d63c4af57"
      },
      "execution_count": 1,
      "outputs": [
        {
          "output_type": "stream",
          "name": "stdout",
          "text": [
            "[1, 2, 3, 4, 5]\n"
          ]
        }
      ]
    },
    {
      "cell_type": "code",
      "source": [
        "list=[1,2,3,4,5]\n",
        "list1=[2,3,4,5]\n",
        "print(list+list1)"
      ],
      "metadata": {
        "colab": {
          "base_uri": "https://localhost:8080/"
        },
        "id": "LYZmTFoXwjQQ",
        "outputId": "f6a4b5ca-90e5-4d25-8694-3264362bd232"
      },
      "execution_count": 2,
      "outputs": [
        {
          "output_type": "stream",
          "name": "stdout",
          "text": [
            "[1, 2, 3, 4, 5, 2, 3, 4, 5]\n"
          ]
        }
      ]
    },
    {
      "cell_type": "markdown",
      "source": [
        "WAP to find maximum of two numbers"
      ],
      "metadata": {
        "id": "moAcKOfTy6no"
      }
    },
    {
      "cell_type": "code",
      "source": [
        "a=2\n",
        "b=7\n",
        "if (a>b):\n",
        "  print(\"a is greater\")\n",
        "else:\n",
        "  print(\"b is greater\")"
      ],
      "metadata": {
        "colab": {
          "base_uri": "https://localhost:8080/"
        },
        "id": "HGWgyE-Oy_XP",
        "outputId": "b66ff356-99a9-4fb4-b743-090298345b82"
      },
      "execution_count": 3,
      "outputs": [
        {
          "output_type": "stream",
          "name": "stdout",
          "text": [
            "b is greater\n"
          ]
        }
      ]
    },
    {
      "cell_type": "markdown",
      "source": [
        "WAP to print simple interest"
      ],
      "metadata": {
        "id": "_-paXD1Lzey-"
      }
    },
    {
      "cell_type": "code",
      "source": [
        "P=float(input(\"enter p:\"))\n",
        "R=int(input(\"enter r:\"))\n",
        "T=float(input(\"enter t:\"))\n",
        "print((P*R*T)/100)"
      ],
      "metadata": {
        "colab": {
          "base_uri": "https://localhost:8080/"
        },
        "id": "uVYOok-j0fjd",
        "outputId": "50bb2c08-f139-4817-d3ba-b97bfd213b81"
      },
      "execution_count": 14,
      "outputs": [
        {
          "output_type": "stream",
          "name": "stdout",
          "text": [
            "enter p:10.67\n",
            "enter r:2\n",
            "enter t:2.5\n",
            "0.5335\n"
          ]
        }
      ]
    },
    {
      "cell_type": "markdown",
      "source": [
        "WAP to check whether a number is prime or not"
      ],
      "metadata": {
        "id": "Dr5wCKlk1kpp"
      }
    },
    {
      "cell_type": "code",
      "source": [
        "num=11\n",
        "c=0\n",
        "for i in range(1,num+1):\n",
        "  if num % i == 0:\n",
        "    c=c+1\n",
        "if c==2:\n",
        "    print(\"prime\")\n",
        "else:\n",
        "    print(\"not\")"
      ],
      "metadata": {
        "colab": {
          "base_uri": "https://localhost:8080/"
        },
        "id": "YbVgXE641o1_",
        "outputId": "d8ad5189-6f49-41b2-f47e-f47d45a73873"
      },
      "execution_count": 13,
      "outputs": [
        {
          "output_type": "stream",
          "name": "stdout",
          "text": [
            "prime\n"
          ]
        }
      ]
    },
    {
      "cell_type": "markdown",
      "source": [
        "WAP to interchange first and last item in a list"
      ],
      "metadata": {
        "id": "shEkSiLZ4t_B"
      }
    },
    {
      "cell_type": "code",
      "source": [
        "list=[1,2,3,4]\n",
        "list[0]=8\n",
        "list[3]=12\n",
        "print(list)"
      ],
      "metadata": {
        "colab": {
          "base_uri": "https://localhost:8080/"
        },
        "id": "dJsZf5X446v6",
        "outputId": "22a0069b-0373-4399-a0e0-5eea048f9959"
      },
      "execution_count": 15,
      "outputs": [
        {
          "output_type": "stream",
          "name": "stdout",
          "text": [
            "[8, 2, 3, 12]\n"
          ]
        }
      ]
    },
    {
      "cell_type": "markdown",
      "source": [
        "WAP to swap two lists"
      ],
      "metadata": {
        "id": "AScYFeIM41Yv"
      }
    },
    {
      "cell_type": "code",
      "source": [
        "list1=[1,2,3,4]\n",
        "list2=[5,6,7,8]\n",
        "list=list1\n",
        "list1=list2\n",
        "list2=list\n",
        "print(list1)"
      ],
      "metadata": {
        "colab": {
          "base_uri": "https://localhost:8080/"
        },
        "id": "5ThVQ5Y95h4X",
        "outputId": "759b06a3-b316-4aa1-8f19-6e765910e083"
      },
      "execution_count": 3,
      "outputs": [
        {
          "output_type": "stream",
          "name": "stdout",
          "text": [
            "[5, 6, 7, 8]\n"
          ]
        }
      ]
    },
    {
      "cell_type": "markdown",
      "source": [
        "WAP to find lenth of list"
      ],
      "metadata": {
        "id": "bje7jT1E5Cu6"
      }
    },
    {
      "cell_type": "code",
      "source": [
        "list=[1,2,3,4]\n",
        "print(len(list))"
      ],
      "metadata": {
        "colab": {
          "base_uri": "https://localhost:8080/"
        },
        "id": "JgBfSPQw60ja",
        "outputId": "97b40df2-a490-4752-e460-db8c91a3d1d0"
      },
      "execution_count": 18,
      "outputs": [
        {
          "output_type": "stream",
          "name": "stdout",
          "text": [
            "4\n"
          ]
        }
      ]
    },
    {
      "cell_type": "markdown",
      "source": [
        "WAP to check if element exist in the list"
      ],
      "metadata": {
        "id": "cE1gWLGZ5F5L"
      }
    },
    {
      "cell_type": "code",
      "source": [
        "list=[1,2,3,4]\n",
        "a=2\n",
        "if a in list:\n",
        "  print(\"Yes\")\n",
        "else:\n",
        "  print(\"No\")"
      ],
      "metadata": {
        "colab": {
          "base_uri": "https://localhost:8080/"
        },
        "id": "q_9YU8QfZKu-",
        "outputId": "015b7c94-5da0-4ae8-c3b8-8aa153989537"
      },
      "execution_count": 4,
      "outputs": [
        {
          "output_type": "stream",
          "name": "stdout",
          "text": [
            "Yes\n"
          ]
        }
      ]
    },
    {
      "cell_type": "markdown",
      "source": [
        "WAP to reverse a list"
      ],
      "metadata": {
        "id": "sdKBcOcK5NFR"
      }
    },
    {
      "cell_type": "code",
      "source": [
        "list=[1,2,3,4]\n",
        "print(list[::-1])"
      ],
      "metadata": {
        "colab": {
          "base_uri": "https://localhost:8080/"
        },
        "id": "8dDXSYuKZmEJ",
        "outputId": "2c0fa248-7ce1-4995-fcd8-425c51919974"
      },
      "execution_count": 6,
      "outputs": [
        {
          "output_type": "stream",
          "name": "stdout",
          "text": [
            "[4, 3, 2, 1]\n"
          ]
        }
      ]
    }
  ]
}